{
 "cells": [
  {
   "cell_type": "markdown",
   "metadata": {},
   "source": [
    "6.\tTrain a decision tree and a randomforest from the scikit-learn package for outcome label prediction using the event log created at step 2 and and step 5 for prefix length L=2 and L=5.  Split 70-30 for training-testing.\n",
    "\n",
    "Hyperparameters\n",
    "DT: max_depth=5\n",
    "RF: n_estimators=100, oob_score=True\n"
   ]
  },
  {
   "cell_type": "code",
   "execution_count": 2,
   "metadata": {},
   "outputs": [
    {
     "data": {
      "text/html": [
       "<div>\n",
       "<style scoped>\n",
       "    .dataframe tbody tr th:only-of-type {\n",
       "        vertical-align: middle;\n",
       "    }\n",
       "\n",
       "    .dataframe tbody tr th {\n",
       "        vertical-align: top;\n",
       "    }\n",
       "\n",
       "    .dataframe thead th {\n",
       "        text-align: right;\n",
       "    }\n",
       "</style>\n",
       "<table border=\"1\" class=\"dataframe\">\n",
       "  <thead>\n",
       "    <tr style=\"text-align: right;\">\n",
       "      <th></th>\n",
       "      <th>caseid</th>\n",
       "      <th>activity</th>\n",
       "      <th>ts</th>\n",
       "      <th>resource</th>\n",
       "      <th>outcome</th>\n",
       "    </tr>\n",
       "  </thead>\n",
       "  <tbody>\n",
       "    <tr>\n",
       "      <th>0</th>\n",
       "      <td>Offer_247135719</td>\n",
       "      <td>O_Create Offer</td>\n",
       "      <td>2016/01/02 18:17:05.720</td>\n",
       "      <td>User_17</td>\n",
       "      <td>True</td>\n",
       "    </tr>\n",
       "    <tr>\n",
       "      <th>1</th>\n",
       "      <td>Offer_247135719</td>\n",
       "      <td>O_Created</td>\n",
       "      <td>2016/01/02 18:17:08.762</td>\n",
       "      <td>User_17</td>\n",
       "      <td>True</td>\n",
       "    </tr>\n",
       "    <tr>\n",
       "      <th>2</th>\n",
       "      <td>Offer_247135719</td>\n",
       "      <td>O_Sent (online only)</td>\n",
       "      <td>2016/01/02 18:19:21.330</td>\n",
       "      <td>User_17</td>\n",
       "      <td>True</td>\n",
       "    </tr>\n",
       "    <tr>\n",
       "      <th>3</th>\n",
       "      <td>Offer_247135719</td>\n",
       "      <td>O_Cancelled</td>\n",
       "      <td>2016/01/02 18:21:26.034</td>\n",
       "      <td>User_17</td>\n",
       "      <td>True</td>\n",
       "    </tr>\n",
       "    <tr>\n",
       "      <th>4</th>\n",
       "      <td>Offer_941964966</td>\n",
       "      <td>O_Create Offer</td>\n",
       "      <td>2016/01/02 18:21:42.022</td>\n",
       "      <td>User_17</td>\n",
       "      <td>True</td>\n",
       "    </tr>\n",
       "    <tr>\n",
       "      <th>...</th>\n",
       "      <td>...</td>\n",
       "      <td>...</td>\n",
       "      <td>...</td>\n",
       "      <td>...</td>\n",
       "      <td>...</td>\n",
       "    </tr>\n",
       "    <tr>\n",
       "      <th>22404</th>\n",
       "      <td>Offer_1064426652</td>\n",
       "      <td>O_Create Offer</td>\n",
       "      <td>2016/02/18 22:50:01.446</td>\n",
       "      <td>User_23</td>\n",
       "      <td>True</td>\n",
       "    </tr>\n",
       "    <tr>\n",
       "      <th>22405</th>\n",
       "      <td>Offer_1064426652</td>\n",
       "      <td>O_Created</td>\n",
       "      <td>2016/02/18 22:50:02.655</td>\n",
       "      <td>User_23</td>\n",
       "      <td>True</td>\n",
       "    </tr>\n",
       "    <tr>\n",
       "      <th>22406</th>\n",
       "      <td>Offer_1064426652</td>\n",
       "      <td>O_Sent (mail and online)</td>\n",
       "      <td>2016/02/18 22:50:22.174</td>\n",
       "      <td>User_23</td>\n",
       "      <td>True</td>\n",
       "    </tr>\n",
       "    <tr>\n",
       "      <th>22407</th>\n",
       "      <td>Offer_1064426652</td>\n",
       "      <td>O_Returned</td>\n",
       "      <td>2016/02/29 19:08:56.200</td>\n",
       "      <td>User_117</td>\n",
       "      <td>True</td>\n",
       "    </tr>\n",
       "    <tr>\n",
       "      <th>22408</th>\n",
       "      <td>Offer_1064426652</td>\n",
       "      <td>O_Accepted</td>\n",
       "      <td>2016/02/29 23:43:45.831</td>\n",
       "      <td>User_102</td>\n",
       "      <td>True</td>\n",
       "    </tr>\n",
       "  </tbody>\n",
       "</table>\n",
       "<p>22409 rows × 5 columns</p>\n",
       "</div>"
      ],
      "text/plain": [
       "                 caseid                  activity                       ts  \\\n",
       "0       Offer_247135719            O_Create Offer  2016/01/02 18:17:05.720   \n",
       "1       Offer_247135719                 O_Created  2016/01/02 18:17:08.762   \n",
       "2       Offer_247135719      O_Sent (online only)  2016/01/02 18:19:21.330   \n",
       "3       Offer_247135719               O_Cancelled  2016/01/02 18:21:26.034   \n",
       "4       Offer_941964966            O_Create Offer  2016/01/02 18:21:42.022   \n",
       "...                 ...                       ...                      ...   \n",
       "22404  Offer_1064426652            O_Create Offer  2016/02/18 22:50:01.446   \n",
       "22405  Offer_1064426652                 O_Created  2016/02/18 22:50:02.655   \n",
       "22406  Offer_1064426652  O_Sent (mail and online)  2016/02/18 22:50:22.174   \n",
       "22407  Offer_1064426652                O_Returned  2016/02/29 19:08:56.200   \n",
       "22408  Offer_1064426652                O_Accepted  2016/02/29 23:43:45.831   \n",
       "\n",
       "       resource  outcome  \n",
       "0       User_17     True  \n",
       "1       User_17     True  \n",
       "2       User_17     True  \n",
       "3       User_17     True  \n",
       "4       User_17     True  \n",
       "...         ...      ...  \n",
       "22404   User_23     True  \n",
       "22405   User_23     True  \n",
       "22406   User_23     True  \n",
       "22407  User_117     True  \n",
       "22408  User_102     True  \n",
       "\n",
       "[22409 rows x 5 columns]"
      ]
     },
     "execution_count": 2,
     "metadata": {},
     "output_type": "execute_result"
    }
   ],
   "source": [
    "#step 2\n",
    "import pandas as pd\n",
    "import numpy as np\n",
    "from sklearn.ensemble import RandomForestClassifier\n",
    "from sklearn.metrics import accuracy_score"
   ]
  },
  {
   "cell_type": "code",
   "execution_count": null,
   "metadata": {},
   "outputs": [],
   "source": [
    "log_bpic = pd.read_csv(\"log_bpic.csv\", index_col=0)\n",
    "log_bpic"
   ]
  },
  {
   "cell_type": "code",
   "execution_count": null,
   "metadata": {},
   "outputs": [],
   "source": [
    "X_train, X_test, y_train, y_test = train_test_split(cancer.data, cancer.target, test_size=0.2, random_state=42 )"
   ]
  },
  {
   "cell_type": "code",
   "execution_count": null,
   "metadata": {},
   "outputs": [],
   "source": []
  },
  {
   "cell_type": "code",
   "execution_count": null,
   "metadata": {},
   "outputs": [],
   "source": [
    "#step 5 for prefix length L=2 and L=5"
   ]
  }
 ],
 "metadata": {
  "kernelspec": {
   "display_name": "Python 3.10.8 64-bit (microsoft store)",
   "language": "python",
   "name": "python3"
  },
  "language_info": {
   "codemirror_mode": {
    "name": "ipython",
    "version": 3
   },
   "file_extension": ".py",
   "mimetype": "text/x-python",
   "name": "python",
   "nbconvert_exporter": "python",
   "pygments_lexer": "ipython3",
   "version": "3.10.8"
  },
  "orig_nbformat": 4,
  "vscode": {
   "interpreter": {
    "hash": "757aa4992fb8ed25d3a96931c0ea3cbac88aa5e1f2d55e5c1a4c08013c8200eb"
   }
  }
 },
 "nbformat": 4,
 "nbformat_minor": 2
}
